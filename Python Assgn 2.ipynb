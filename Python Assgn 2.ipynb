{
 "cells": [
  {
   "cell_type": "code",
   "execution_count": null,
   "id": "2cc89e1d",
   "metadata": {},
   "outputs": [],
   "source": [
    "i = 1\n",
    "while i < 6:\n",
    "    print(\"*\"*i)\n",
    "    i = i + 1\n",
    "    if i == 6:\n",
    "        for j in range(1,5):\n",
    "            print(\"*\"*(5-j))"
   ]
  },
  {
   "cell_type": "code",
   "execution_count": null,
   "id": "74cbadc7",
   "metadata": {},
   "outputs": [],
   "source": [
    "a = input(\"Enter a word you want to reverse: \")\n",
    "b = a[::-1]\n",
    "print(b)"
   ]
  }
 ],
 "metadata": {
  "kernelspec": {
   "display_name": "Python 3",
   "language": "python",
   "name": "python3"
  },
  "language_info": {
   "codemirror_mode": {
    "name": "ipython",
    "version": 3
   },
   "file_extension": ".py",
   "mimetype": "text/x-python",
   "name": "python",
   "nbconvert_exporter": "python",
   "pygments_lexer": "ipython3",
   "version": "3.8.8"
  }
 },
 "nbformat": 4,
 "nbformat_minor": 5
}
